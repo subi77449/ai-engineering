{
  "nbformat": 4,
  "nbformat_minor": 0,
  "metadata": {
    "colab": {
      "provenance": []
    },
    "kernelspec": {
      "name": "python3",
      "display_name": "Python 3"
    },
    "language_info": {
      "name": "python"
    }
  },
  "cells": [
    {
      "cell_type": "code",
      "source": [
        "!pip install python-dotenv"
      ],
      "metadata": {
        "colab": {
          "base_uri": "https://localhost:8080/"
        },
        "id": "TxXHURIUjik0",
        "outputId": "94ae2197-f42a-48cb-80df-a85e80d2576a"
      },
      "execution_count": 2,
      "outputs": [
        {
          "output_type": "stream",
          "name": "stdout",
          "text": [
            "Collecting python-dotenv\n",
            "  Downloading python_dotenv-1.1.0-py3-none-any.whl.metadata (24 kB)\n",
            "Downloading python_dotenv-1.1.0-py3-none-any.whl (20 kB)\n",
            "Installing collected packages: python-dotenv\n",
            "Successfully installed python-dotenv-1.1.0\n"
          ]
        }
      ]
    },
    {
      "cell_type": "code",
      "execution_count": null,
      "metadata": {
        "colab": {
          "base_uri": "https://localhost:8080/"
        },
        "id": "UB8RgZKUfcNK",
        "outputId": "09e70d35-8a8c-41ad-d7c4-80b797597315"
      },
      "outputs": [
        {
          "output_type": "stream",
          "name": "stdout",
          "text": [
            "Supported languages:\n",
            "en: English\n",
            "zh: Chinese\n",
            "es: Spanish\n",
            "hi: Hindi\n",
            "ar: Arabic\n",
            "pt: Portuguese\n",
            "ru: Russian\n",
            "ja: Japanese\n",
            "de: German\n",
            "fr: French\n",
            "Enter language code (default 'en'): en\n",
            "\n",
            "Chatbot initialized in English.\n",
            "Type 'quit' to exit or 'change lang' to switch languages.\n",
            "You: name top universityes\n",
            "Assistant: Error: 401 Client Error: Unauthorized for url: https://api.deepseek.com/v1/chat/completions\n"
          ]
        }
      ],
      "source": [
        "import os\n",
        "import requests\n",
        "from dotenv import load_dotenv\n",
        "\n",
        "# Load environment variables\n",
        "load_dotenv()\n",
        "\n",
        "class MultilingualDeepSeekChatbot:\n",
        "    def __init__(self):\n",
        "        self.api_key = os.getenv(\"DEEPSEEK_API_KEY\")\n",
        "        self.base_url = \"https://api.deepseek.com/v1/chat/completions\"\n",
        "        self.headers = {\n",
        "            \"Authorization\": f\"Bearer {self.api_key}\",\n",
        "            \"Content-Type\": \"application/json\"\n",
        "        }\n",
        "        self.supported_languages = {\n",
        "            'en': 'English',\n",
        "            'zh': 'Chinese',\n",
        "            'es': 'Spanish',\n",
        "            'hi': 'Hindi',\n",
        "            'ar': 'Arabic',\n",
        "            'pt': 'Portuguese',\n",
        "            'ru': 'Russian',\n",
        "            'ja': 'Japanese',\n",
        "            'de': 'German',\n",
        "            'fr': 'French'\n",
        "        }\n",
        "        self.current_language = 'en'\n",
        "\n",
        "    def set_language(self, lang_code):\n",
        "        \"\"\"Set the response language if supported\"\"\"\n",
        "        if lang_code in self.supported_languages:\n",
        "            self.current_language = lang_code\n",
        "            return True\n",
        "        return False\n",
        "\n",
        "    def chat(self, user_message):\n",
        "        \"\"\"Send message with language context\"\"\"\n",
        "        system_prompt = (\n",
        "            f\"You are a multilingual assistant. \"\n",
        "            f\"Respond in {self.supported_languages[self.current_language]}. \"\n",
        "            \"Be helpful and concise.\"\n",
        "        )\n",
        "\n",
        "        messages = [\n",
        "            {\"role\": \"system\", \"content\": system_prompt},\n",
        "            {\"role\": \"user\", \"content\": user_message}\n",
        "        ]\n",
        "\n",
        "        payload = {\n",
        "            \"model\": \"deepseek-chat\",\n",
        "            \"messages\": messages,\n",
        "            \"temperature\": 0.7,\n",
        "            \"max_tokens\": 1000\n",
        "        }\n",
        "\n",
        "        try:\n",
        "            response = requests.post(self.base_url, headers=self.headers, json=payload)\n",
        "            response.raise_for_status()\n",
        "            return response.json()[\"choices\"][0][\"message\"][\"content\"]\n",
        "        except Exception as e:\n",
        "            return f\"Error: {str(e)}\"\n",
        "\n",
        "# Example usage\n",
        "if __name__ == \"__main__\":\n",
        "    bot = MultilingualDeepSeekChatbot()\n",
        "\n",
        "    print(\"Supported languages:\")\n",
        "    for code, name in bot.supported_languages.items():\n",
        "        print(f\"{code}: {name}\")\n",
        "\n",
        "    lang = input(\"Enter language code (default 'en'): \") or 'en'\n",
        "    if not bot.set_language(lang):\n",
        "        print(f\"Unsupported language. Defaulting to English.\")\n",
        "\n",
        "    print(f\"\\nChatbot initialized in {bot.supported_languages[bot.current_language]}.\")\n",
        "    print(\"Type 'quit' to exit or 'change lang' to switch languages.\")\n",
        "\n",
        "    while True:\n",
        "        user_input = input(\"You: \")\n",
        "        if user_input.lower() == 'quit':\n",
        "            break\n",
        "        elif user_input.lower() == 'change lang':\n",
        "            lang = input(f\"Enter language code ({'/'.join(bot.supported_languages.keys())}): \")\n",
        "            if bot.set_language(lang):\n",
        "                print(f\"Language changed to {bot.supported_languages[lang]}\")\n",
        "            else:\n",
        "                print(\"Unsupported language.\")\n",
        "            continue\n",
        "\n",
        "        response = bot.chat(user_input)\n",
        "        print(f\"Assistant: {response}\")"
      ]
    }
  ]
}